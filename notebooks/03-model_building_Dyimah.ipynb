{
 "cells": [
  {
   "cell_type": "markdown",
   "id": "67269d43",
   "metadata": {},
   "source": [
    "# Model building"
   ]
  },
  {
   "cell_type": "code",
   "execution_count": 39,
   "id": "cfb18438",
   "metadata": {},
   "outputs": [
    {
     "name": "stdout",
     "output_type": "stream",
     "text": [
      "/\n"
     ]
    }
   ],
   "source": [
    "import pickle\n",
    "from pathlib import Path\n",
    "\n",
    "import numpy as np\n",
    "import seaborn as sns\n",
    "import pandas as pd\n",
    "import matplotlib.pyplot as plt\n",
    "from scipy.stats import uniform, randint\n",
    "\n",
    "from sklearn.experimental import enable_halving_search_cv\n",
    "from sklearn.model_selection import cross_val_score, HalvingGridSearchCV, train_test_split\n",
    "from sklearn.ensemble import HistGradientBoostingClassifier\n",
    "from sklearn.metrics import accuracy_score, confusion_matrix, ConfusionMatrixDisplay, roc_curve, roc_auc_score\n",
    "from sklearn.calibration import CalibrationDisplay, CalibratedClassifierCV\n",
    "\n",
    "%cd ..\n",
    "\n",
    "import src.configuration as config "
   ]
  },
  {
   "cell_type": "markdown",
   "id": "f7670b7b",
   "metadata": {},
   "source": [
    "## 1. Load data"
   ]
  },
  {
   "cell_type": "code",
   "execution_count": 41,
   "id": "a7fe1279",
   "metadata": {},
   "outputs": [
    {
     "ename": "FileNotFoundError",
     "evalue": "[Errno 2] No such file or directory: './data/processed/train_encoded.csv'",
     "output_type": "error",
     "traceback": [
      "\u001b[31m---------------------------------------------------------------------------\u001b[39m",
      "\u001b[31mFileNotFoundError\u001b[39m                         Traceback (most recent call last)",
      "\u001b[36mCell\u001b[39m\u001b[36m \u001b[39m\u001b[32mIn[41]\u001b[39m\u001b[32m, line 1\u001b[39m\n\u001b[32m----> \u001b[39m\u001b[32m1\u001b[39m train_df = \u001b[43mpd\u001b[49m\u001b[43m.\u001b[49m\u001b[43mread_csv\u001b[49m\u001b[43m(\u001b[49m\u001b[43mconfig\u001b[49m\u001b[43m.\u001b[49m\u001b[43mTRAINING_DATAFILE\u001b[49m\u001b[43m)\u001b[49m\n\u001b[32m      2\u001b[39m test_df = pd.read_csv(config.TESTING_DATAFILE)\n",
      "\u001b[36mFile \u001b[39m\u001b[32m~/.local/lib/python3.11/site-packages/pandas/io/parsers/readers.py:1026\u001b[39m, in \u001b[36mread_csv\u001b[39m\u001b[34m(filepath_or_buffer, sep, delimiter, header, names, index_col, usecols, dtype, engine, converters, true_values, false_values, skipinitialspace, skiprows, skipfooter, nrows, na_values, keep_default_na, na_filter, verbose, skip_blank_lines, parse_dates, infer_datetime_format, keep_date_col, date_parser, date_format, dayfirst, cache_dates, iterator, chunksize, compression, thousands, decimal, lineterminator, quotechar, quoting, doublequote, escapechar, comment, encoding, encoding_errors, dialect, on_bad_lines, delim_whitespace, low_memory, memory_map, float_precision, storage_options, dtype_backend)\u001b[39m\n\u001b[32m   1013\u001b[39m kwds_defaults = _refine_defaults_read(\n\u001b[32m   1014\u001b[39m     dialect,\n\u001b[32m   1015\u001b[39m     delimiter,\n\u001b[32m   (...)\u001b[39m\u001b[32m   1022\u001b[39m     dtype_backend=dtype_backend,\n\u001b[32m   1023\u001b[39m )\n\u001b[32m   1024\u001b[39m kwds.update(kwds_defaults)\n\u001b[32m-> \u001b[39m\u001b[32m1026\u001b[39m \u001b[38;5;28;01mreturn\u001b[39;00m \u001b[43m_read\u001b[49m\u001b[43m(\u001b[49m\u001b[43mfilepath_or_buffer\u001b[49m\u001b[43m,\u001b[49m\u001b[43m \u001b[49m\u001b[43mkwds\u001b[49m\u001b[43m)\u001b[49m\n",
      "\u001b[36mFile \u001b[39m\u001b[32m~/.local/lib/python3.11/site-packages/pandas/io/parsers/readers.py:620\u001b[39m, in \u001b[36m_read\u001b[39m\u001b[34m(filepath_or_buffer, kwds)\u001b[39m\n\u001b[32m    617\u001b[39m _validate_names(kwds.get(\u001b[33m\"\u001b[39m\u001b[33mnames\u001b[39m\u001b[33m\"\u001b[39m, \u001b[38;5;28;01mNone\u001b[39;00m))\n\u001b[32m    619\u001b[39m \u001b[38;5;66;03m# Create the parser.\u001b[39;00m\n\u001b[32m--> \u001b[39m\u001b[32m620\u001b[39m parser = \u001b[43mTextFileReader\u001b[49m\u001b[43m(\u001b[49m\u001b[43mfilepath_or_buffer\u001b[49m\u001b[43m,\u001b[49m\u001b[43m \u001b[49m\u001b[43m*\u001b[49m\u001b[43m*\u001b[49m\u001b[43mkwds\u001b[49m\u001b[43m)\u001b[49m\n\u001b[32m    622\u001b[39m \u001b[38;5;28;01mif\u001b[39;00m chunksize \u001b[38;5;129;01mor\u001b[39;00m iterator:\n\u001b[32m    623\u001b[39m     \u001b[38;5;28;01mreturn\u001b[39;00m parser\n",
      "\u001b[36mFile \u001b[39m\u001b[32m~/.local/lib/python3.11/site-packages/pandas/io/parsers/readers.py:1620\u001b[39m, in \u001b[36mTextFileReader.__init__\u001b[39m\u001b[34m(self, f, engine, **kwds)\u001b[39m\n\u001b[32m   1617\u001b[39m     \u001b[38;5;28mself\u001b[39m.options[\u001b[33m\"\u001b[39m\u001b[33mhas_index_names\u001b[39m\u001b[33m\"\u001b[39m] = kwds[\u001b[33m\"\u001b[39m\u001b[33mhas_index_names\u001b[39m\u001b[33m\"\u001b[39m]\n\u001b[32m   1619\u001b[39m \u001b[38;5;28mself\u001b[39m.handles: IOHandles | \u001b[38;5;28;01mNone\u001b[39;00m = \u001b[38;5;28;01mNone\u001b[39;00m\n\u001b[32m-> \u001b[39m\u001b[32m1620\u001b[39m \u001b[38;5;28mself\u001b[39m._engine = \u001b[38;5;28;43mself\u001b[39;49m\u001b[43m.\u001b[49m\u001b[43m_make_engine\u001b[49m\u001b[43m(\u001b[49m\u001b[43mf\u001b[49m\u001b[43m,\u001b[49m\u001b[43m \u001b[49m\u001b[38;5;28;43mself\u001b[39;49m\u001b[43m.\u001b[49m\u001b[43mengine\u001b[49m\u001b[43m)\u001b[49m\n",
      "\u001b[36mFile \u001b[39m\u001b[32m~/.local/lib/python3.11/site-packages/pandas/io/parsers/readers.py:1880\u001b[39m, in \u001b[36mTextFileReader._make_engine\u001b[39m\u001b[34m(self, f, engine)\u001b[39m\n\u001b[32m   1878\u001b[39m     \u001b[38;5;28;01mif\u001b[39;00m \u001b[33m\"\u001b[39m\u001b[33mb\u001b[39m\u001b[33m\"\u001b[39m \u001b[38;5;129;01mnot\u001b[39;00m \u001b[38;5;129;01min\u001b[39;00m mode:\n\u001b[32m   1879\u001b[39m         mode += \u001b[33m\"\u001b[39m\u001b[33mb\u001b[39m\u001b[33m\"\u001b[39m\n\u001b[32m-> \u001b[39m\u001b[32m1880\u001b[39m \u001b[38;5;28mself\u001b[39m.handles = \u001b[43mget_handle\u001b[49m\u001b[43m(\u001b[49m\n\u001b[32m   1881\u001b[39m \u001b[43m    \u001b[49m\u001b[43mf\u001b[49m\u001b[43m,\u001b[49m\n\u001b[32m   1882\u001b[39m \u001b[43m    \u001b[49m\u001b[43mmode\u001b[49m\u001b[43m,\u001b[49m\n\u001b[32m   1883\u001b[39m \u001b[43m    \u001b[49m\u001b[43mencoding\u001b[49m\u001b[43m=\u001b[49m\u001b[38;5;28;43mself\u001b[39;49m\u001b[43m.\u001b[49m\u001b[43moptions\u001b[49m\u001b[43m.\u001b[49m\u001b[43mget\u001b[49m\u001b[43m(\u001b[49m\u001b[33;43m\"\u001b[39;49m\u001b[33;43mencoding\u001b[39;49m\u001b[33;43m\"\u001b[39;49m\u001b[43m,\u001b[49m\u001b[43m \u001b[49m\u001b[38;5;28;43;01mNone\u001b[39;49;00m\u001b[43m)\u001b[49m\u001b[43m,\u001b[49m\n\u001b[32m   1884\u001b[39m \u001b[43m    \u001b[49m\u001b[43mcompression\u001b[49m\u001b[43m=\u001b[49m\u001b[38;5;28;43mself\u001b[39;49m\u001b[43m.\u001b[49m\u001b[43moptions\u001b[49m\u001b[43m.\u001b[49m\u001b[43mget\u001b[49m\u001b[43m(\u001b[49m\u001b[33;43m\"\u001b[39;49m\u001b[33;43mcompression\u001b[39;49m\u001b[33;43m\"\u001b[39;49m\u001b[43m,\u001b[49m\u001b[43m \u001b[49m\u001b[38;5;28;43;01mNone\u001b[39;49;00m\u001b[43m)\u001b[49m\u001b[43m,\u001b[49m\n\u001b[32m   1885\u001b[39m \u001b[43m    \u001b[49m\u001b[43mmemory_map\u001b[49m\u001b[43m=\u001b[49m\u001b[38;5;28;43mself\u001b[39;49m\u001b[43m.\u001b[49m\u001b[43moptions\u001b[49m\u001b[43m.\u001b[49m\u001b[43mget\u001b[49m\u001b[43m(\u001b[49m\u001b[33;43m\"\u001b[39;49m\u001b[33;43mmemory_map\u001b[39;49m\u001b[33;43m\"\u001b[39;49m\u001b[43m,\u001b[49m\u001b[43m \u001b[49m\u001b[38;5;28;43;01mFalse\u001b[39;49;00m\u001b[43m)\u001b[49m\u001b[43m,\u001b[49m\n\u001b[32m   1886\u001b[39m \u001b[43m    \u001b[49m\u001b[43mis_text\u001b[49m\u001b[43m=\u001b[49m\u001b[43mis_text\u001b[49m\u001b[43m,\u001b[49m\n\u001b[32m   1887\u001b[39m \u001b[43m    \u001b[49m\u001b[43merrors\u001b[49m\u001b[43m=\u001b[49m\u001b[38;5;28;43mself\u001b[39;49m\u001b[43m.\u001b[49m\u001b[43moptions\u001b[49m\u001b[43m.\u001b[49m\u001b[43mget\u001b[49m\u001b[43m(\u001b[49m\u001b[33;43m\"\u001b[39;49m\u001b[33;43mencoding_errors\u001b[39;49m\u001b[33;43m\"\u001b[39;49m\u001b[43m,\u001b[49m\u001b[43m \u001b[49m\u001b[33;43m\"\u001b[39;49m\u001b[33;43mstrict\u001b[39;49m\u001b[33;43m\"\u001b[39;49m\u001b[43m)\u001b[49m\u001b[43m,\u001b[49m\n\u001b[32m   1888\u001b[39m \u001b[43m    \u001b[49m\u001b[43mstorage_options\u001b[49m\u001b[43m=\u001b[49m\u001b[38;5;28;43mself\u001b[39;49m\u001b[43m.\u001b[49m\u001b[43moptions\u001b[49m\u001b[43m.\u001b[49m\u001b[43mget\u001b[49m\u001b[43m(\u001b[49m\u001b[33;43m\"\u001b[39;49m\u001b[33;43mstorage_options\u001b[39;49m\u001b[33;43m\"\u001b[39;49m\u001b[43m,\u001b[49m\u001b[43m \u001b[49m\u001b[38;5;28;43;01mNone\u001b[39;49;00m\u001b[43m)\u001b[49m\u001b[43m,\u001b[49m\n\u001b[32m   1889\u001b[39m \u001b[43m\u001b[49m\u001b[43m)\u001b[49m\n\u001b[32m   1890\u001b[39m \u001b[38;5;28;01massert\u001b[39;00m \u001b[38;5;28mself\u001b[39m.handles \u001b[38;5;129;01mis\u001b[39;00m \u001b[38;5;129;01mnot\u001b[39;00m \u001b[38;5;28;01mNone\u001b[39;00m\n\u001b[32m   1891\u001b[39m f = \u001b[38;5;28mself\u001b[39m.handles.handle\n",
      "\u001b[36mFile \u001b[39m\u001b[32m~/.local/lib/python3.11/site-packages/pandas/io/common.py:873\u001b[39m, in \u001b[36mget_handle\u001b[39m\u001b[34m(path_or_buf, mode, encoding, compression, memory_map, is_text, errors, storage_options)\u001b[39m\n\u001b[32m    868\u001b[39m \u001b[38;5;28;01melif\u001b[39;00m \u001b[38;5;28misinstance\u001b[39m(handle, \u001b[38;5;28mstr\u001b[39m):\n\u001b[32m    869\u001b[39m     \u001b[38;5;66;03m# Check whether the filename is to be opened in binary mode.\u001b[39;00m\n\u001b[32m    870\u001b[39m     \u001b[38;5;66;03m# Binary mode does not support 'encoding' and 'newline'.\u001b[39;00m\n\u001b[32m    871\u001b[39m     \u001b[38;5;28;01mif\u001b[39;00m ioargs.encoding \u001b[38;5;129;01mand\u001b[39;00m \u001b[33m\"\u001b[39m\u001b[33mb\u001b[39m\u001b[33m\"\u001b[39m \u001b[38;5;129;01mnot\u001b[39;00m \u001b[38;5;129;01min\u001b[39;00m ioargs.mode:\n\u001b[32m    872\u001b[39m         \u001b[38;5;66;03m# Encoding\u001b[39;00m\n\u001b[32m--> \u001b[39m\u001b[32m873\u001b[39m         handle = \u001b[38;5;28mopen\u001b[39m(\n\u001b[32m    874\u001b[39m             handle,\n\u001b[32m    875\u001b[39m             ioargs.mode,\n\u001b[32m    876\u001b[39m             encoding=ioargs.encoding,\n\u001b[32m    877\u001b[39m             errors=errors,\n\u001b[32m    878\u001b[39m             newline=\u001b[33m\"\u001b[39m\u001b[33m\"\u001b[39m,\n\u001b[32m    879\u001b[39m         )\n\u001b[32m    880\u001b[39m     \u001b[38;5;28;01melse\u001b[39;00m:\n\u001b[32m    881\u001b[39m         \u001b[38;5;66;03m# Binary mode\u001b[39;00m\n\u001b[32m    882\u001b[39m         handle = \u001b[38;5;28mopen\u001b[39m(handle, ioargs.mode)\n",
      "\u001b[31mFileNotFoundError\u001b[39m: [Errno 2] No such file or directory: './data/processed/train_encoded.csv'"
     ]
    }
   ],
   "source": [
    "train_df = pd.read_csv(config.TRAINING_DATAFILE)\n",
    "test_df = pd.read_csv(config.TESTING_DATAFILE)"
   ]
  },
  {
   "cell_type": "code",
   "execution_count": null,
   "id": "f791d800",
   "metadata": {},
   "outputs": [],
   "source": [
    "# visual check of the training data\n",
    "train_df.head(5).T"
   ]
  },
  {
   "cell_type": "code",
   "execution_count": null,
   "id": "8869e07e",
   "metadata": {},
   "outputs": [],
   "source": [
    "# visual check of the testing data\n",
    "test_df.head(5).T"
   ]
  },
  {
   "cell_type": "markdown",
   "id": "bb39d6dc",
   "metadata": {},
   "source": [
    "## 2. Cross-validation: model"
   ]
  },
  {
   "cell_type": "code",
   "execution_count": null,
   "id": "4b23f1aa",
   "metadata": {},
   "outputs": [],
   "source": [
    "# create a function that performs cross validation of the model\n",
    "def cross_val_boosting_model(training_data: pd.DataFrame, testing_data: pd.DataFrame, target_variable: str, model):\n",
    "    X_train = training_data.drop(columns=target_variable)\n",
    "    y_train = training_data[target_variable]\n",
    "    X_test = testing_data.drop(columns=target_variable)\n",
    "    y_test = testing_data[target_variable]\n",
    "    model.fit(X_train, y_train)\n",
    "    y_pred = model.predict(X_test)\n",
    "    scores = cross_val_score(model, X_train, y_train, cv=5)\n",
    "    print(scores)\n",
    "    return X_train, y_train, y_test, y_pred\n",
    "\n",
    "hist_boost_model = HistGradientBoostingClassifier(random_state=42)\n",
    "X_train, y_train, y_test, y_pred = cross_val_boosting_model(train_df, test_df, 'incident', hist_boost_model)"
   ]
  },
  {
   "cell_type": "markdown",
   "id": "1f971b6a",
   "metadata": {},
   "source": [
    "## 3. Test-set performance: confusion matrix"
   ]
  },
  {
   "cell_type": "code",
   "execution_count": null,
   "id": "27b7062c",
   "metadata": {},
   "outputs": [],
   "source": [
    "# plot a confusion matrix to evaluate the model's performance on unseen data\n",
    "def confusion_plot(y_test, y_pred, model):\n",
    "    acc = accuracy_score(y_test, y_pred)*100\n",
    "    conf_matrix = confusion_matrix(y_test, y_pred, normalize='true')\n",
    "    fig, ax = plt.subplots(figsize=(8,6), dpi=100)\n",
    "    display = ConfusionMatrixDisplay(conf_matrix, display_labels=model.classes_)\n",
    "    ax.set(title=f'Confusion Matrix for Airline Crash Model with {acc:.2f}% overall accuracy')\n",
    "    display.plot(ax=ax, values_format='.2%');\n",
    "\n",
    "confusion_plot(y_test, y_pred, hist_boost_model)"
   ]
  },
  {
   "cell_type": "markdown",
   "id": "de256b1c",
   "metadata": {},
   "source": [
    "## 4. Model optimization"
   ]
  },
  {
   "cell_type": "markdown",
   "id": "9633f25d",
   "metadata": {},
   "source": [
    "### Probability Calibration"
   ]
  },
  {
   "cell_type": "code",
   "execution_count": null,
   "id": "6cb19968",
   "metadata": {},
   "outputs": [],
   "source": [
    "# create a functions that checks the calibration of the probabilities of the model\n",
    "def calibration_plot(model, testing_data: pd.DataFrame, target_variable: str):\n",
    "    X_test = testing_data.drop(columns=target_variable)\n",
    "    y_test = testing_data[target_variable]\n",
    "    disp = CalibrationDisplay.from_estimator(model, X_test, y_test)\n",
    "    plt.show()\n",
    "\n",
    "calibration_plot(hist_boost_model, test_df, 'incident')"
   ]
  },
  {
   "cell_type": "code",
   "execution_count": null,
   "id": "987e1c4c",
   "metadata": {},
   "outputs": [],
   "source": [
    "# calibrate the probabilities of the model\n",
    "def calibrate_probability(model, training_data: pd.DataFrame, target_variable: str):\n",
    "    X_train = training_data.drop(columns=target_variable)\n",
    "    y_train = training_data[target_variable]\n",
    "    calibrated_hist_boost_model = CalibratedClassifierCV(model, cv=5)\n",
    "    calibrated_hist_boost_model.fit(X_train, y_train)\n",
    "    return calibrated_hist_boost_model\n",
    "\n",
    "calibrated_hist_boost_model = calibrate_probability(hist_boost_model, train_df, 'incident')"
   ]
  },
  {
   "cell_type": "code",
   "execution_count": null,
   "id": "d48723d3",
   "metadata": {},
   "outputs": [],
   "source": [
    "# create a model that obtains the predictions of the calibrated model\n",
    "def predict_calibrated_probabilities(testing_data: pd.DataFrame, target_variable: str):\n",
    "    X_test = testing_data.drop(columns=target_variable)\n",
    "    y_true = testing_data[target_variable]\n",
    "    calibrated_probability = calibrated_hist_boost_model.predict_proba(X_test)\n",
    "    return calibrated_probability\n",
    "\n",
    "calibrated_probability = predict_calibrated_probabilities(test_df, 'incident')"
   ]
  },
  {
   "cell_type": "code",
   "execution_count": null,
   "id": "fffcea43",
   "metadata": {},
   "outputs": [],
   "source": [
    "# do a visual check of the positive class probabilities\n",
    "positive_class_probability = calibrated_probability[:, 1]\n",
    "positive_class_probability = positive_class_probability * 100\n",
    "positive_class_probability"
   ]
  },
  {
   "cell_type": "code",
   "execution_count": null,
   "id": "c965a5bf",
   "metadata": {},
   "outputs": [],
   "source": [
    "# check how many unique probabilities there are\n",
    "np.unique(positive_class_probability).size"
   ]
  },
  {
   "cell_type": "code",
   "execution_count": null,
   "id": "b875ee69",
   "metadata": {},
   "outputs": [],
   "source": [
    "# visual inspection of unique probabilities\n",
    "np.unique(positive_class_probability)"
   ]
  },
  {
   "cell_type": "code",
   "execution_count": null,
   "id": "37328afe",
   "metadata": {},
   "outputs": [],
   "source": [
    "# plot the calibrated model\n",
    "calibration_plot(calibrated_hist_boost_model, test_df, 'incident')"
   ]
  },
  {
   "cell_type": "code",
   "execution_count": null,
   "id": "e5c79495",
   "metadata": {},
   "outputs": [],
   "source": [
    "# obtain the predictions of the calibrated model\n",
    "def get_predictions(training_data: pd.DataFrame, testing_data: pd.DataFrame, target_variable: str, model):\n",
    "    X_train = training_data.drop(columns=target_variable)\n",
    "    y_train = training_data[target_variable]\n",
    "    X_test = testing_data.drop(columns=target_variable)\n",
    "    y_test = testing_data[target_variable]\n",
    "    model.fit(X_train, y_train)\n",
    "    y_pred = model.predict(X_test)\n",
    "    print(y_pred) \n",
    "    return y_pred, y_test\n",
    "\n",
    "y_pred, y_test = get_predictions(train_df, test_df, 'incident', calibrated_hist_boost_model)"
   ]
  },
  {
   "cell_type": "code",
   "execution_count": null,
   "id": "f123b027",
   "metadata": {},
   "outputs": [],
   "source": [
    "# plot the confusion matrix of the calibrated model\n",
    "confusion_plot(y_test, y_pred, calibrated_hist_boost_model)"
   ]
  },
  {
   "cell_type": "code",
   "execution_count": null,
   "id": "292217d9",
   "metadata": {},
   "outputs": [],
   "source": [
    "# plot the probabilities of the calibrated model\n",
    "def probabilities_plot(model, testing_data):\n",
    "    y_true = testing_data['incident']\n",
    "    X_test = testing_data.drop(columns=['incident'])\n",
    "    prob_incident = model.predict_proba(X_test)[:, 1]\n",
    "    plot_df = pd.DataFrame({\n",
    "        'probability': prob_incident,\n",
    "        'actual': y_true.map({0: 'Non-Incident', 1: 'Incident'})\n",
    "    })\n",
    "\n",
    "    # Plot the distributions\n",
    "    plt.figure(figsize=(10, 6))\n",
    "    sns.histplot(data=plot_df, x='probability', hue='actual', bins=25, kde=True, stat='density', common_norm=False)\n",
    "    plt.title('Predicted Probabilities by Actual Outcome')\n",
    "    plt.xlabel('Predicted Probability of Incident')\n",
    "    plt.ylabel('Density')\n",
    "    plt.ylim(top=40)\n",
    "    plt.show()\n",
    "\n",
    "probabilities_plot(calibrated_hist_boost_model, test_df)"
   ]
  },
  {
   "cell_type": "markdown",
   "id": "534742c1",
   "metadata": {},
   "source": [
    "### Hyperparameter Tuning"
   ]
  },
  {
   "cell_type": "code",
   "execution_count": null,
   "id": "793787b9",
   "metadata": {},
   "outputs": [],
   "source": [
    "# optimize the model via hyperparameter tuning\n",
    "def get_best_params(model, optimizer):\n",
    "    hyper_params = {\n",
    "        'learning_rate': [0.01, 0.05, 0.1, 0.2, 0.3],\n",
    "        'max_iter': [100, 200, 500, 1000],\n",
    "        'max_leaf_nodes': [15, 31, 63, 127],\n",
    "        'l2_regularization': [0.0, 0.1, 1.0, 10.0],\n",
    "    }\n",
    "\n",
    "    grid = optimizer(model, hyper_params, scoring='balanced_accuracy', cv=5, n_jobs=-1)\n",
    "    return grid\n",
    "\n",
    "grid = get_best_params(hist_boost_model, HalvingGridSearchCV)"
   ]
  },
  {
   "cell_type": "code",
   "execution_count": null,
   "id": "6d16ea94",
   "metadata": {},
   "outputs": [],
   "source": [
    "# obtain the best hyperparameters\n",
    "run_grid = True\n",
    "\n",
    "if run_grid:\n",
    "    def warn(*args, **kwargs):\n",
    "        pass\n",
    "    import warnings\n",
    "    warnings.warn = warn\n",
    "\n",
    "    grid.fit(X_train, y_train)\n",
    "\n",
    "    print(f\"Best hyperparameters: {grid.best_params_}\")"
   ]
  },
  {
   "cell_type": "code",
   "execution_count": null,
   "id": "4939e6f7",
   "metadata": {},
   "outputs": [],
   "source": [
    "# create an optimized model based on the best hyperparameters\n",
    "optimized_hist_boost_model = HistGradientBoostingClassifier(l2_regularization= 10.0, learning_rate= 0.01, max_iter= 1000, max_leaf_nodes= 31, random_state=42)\n",
    "\n",
    "X_train, y_train, y_test, y_pred = cross_val_boosting_model(train_df, test_df, 'incident', optimized_hist_boost_model)"
   ]
  },
  {
   "cell_type": "code",
   "execution_count": null,
   "id": "75f56f8a",
   "metadata": {},
   "outputs": [],
   "source": [
    "# obtain the predictions from the optimized model\n",
    "y_pred, y_test = get_predictions(train_df, test_df, 'incident', optimized_hist_boost_model)"
   ]
  },
  {
   "cell_type": "markdown",
   "id": "de791334",
   "metadata": {},
   "source": [
    "## 5. Feature Importances"
   ]
  },
  {
   "cell_type": "code",
   "execution_count": null,
   "id": "a7109cbf",
   "metadata": {},
   "outputs": [],
   "source": [
    "from sklearn.inspection import permutation_importance\n",
    "\n",
    "def feature_importance_plot(model, training_data, sample_size=5000):\n",
    "    # Compute permutation importances\n",
    "    X = training_data.drop('incident', axis=1)\n",
    "    y = training_data['incident']\n",
    "    X_sample = X.sample(sample_size, random_state=42)\n",
    "    y_sample = y.loc[X_sample.index]\n",
    "    result = permutation_importance(model, X_sample, y_sample, n_repeats=5, random_state=42, n_jobs=-1)\n",
    "    importances = result.importances_mean\n",
    "\n",
    "    # Sort feature importances in descending order\n",
    "    indices = np.argsort(importances)[::-1]\n",
    "\n",
    "    # Get feature names from X if it's a DataFrame\n",
    "    if hasattr(X, \"columns\"):\n",
    "        names = [X.columns[i] for i in indices]\n",
    "    else:\n",
    "        names = [f\"Feature {i}\" for i in indices]\n",
    "\n",
    "    # Create plot\n",
    "    plt.figure(figsize=(10, 6))\n",
    "    plt.title(\"Feature Importances\")\n",
    "    plt.bar(range(X.shape[1]), importances[indices])\n",
    "    plt.xticks(range(X.shape[1]), names, rotation=90)\n",
    "    plt.xlabel(\"Features\")\n",
    "    plt.ylabel(\"Importance\")\n",
    "    plt.tight_layout()\n",
    "    plt.show()\n",
    "\n",
    "\n",
    "feature_importance_plot(optimized_hist_boost_model, train_df)"
   ]
  },
  {
   "cell_type": "markdown",
   "id": "cce95666",
   "metadata": {},
   "source": [
    "## 6. Test-set performance: confusion matrix"
   ]
  },
  {
   "cell_type": "code",
   "execution_count": null,
   "id": "316716ed",
   "metadata": {},
   "outputs": [],
   "source": [
    "# plot the optimized model on a confusion matrix\n",
    "confusion_plot(y_test, y_pred, optimized_hist_boost_model)"
   ]
  },
  {
   "cell_type": "markdown",
   "id": "7680fb9d",
   "metadata": {},
   "source": [
    "## 6. Probability distributions"
   ]
  },
  {
   "cell_type": "code",
   "execution_count": null,
   "id": "c3fe9c07",
   "metadata": {},
   "outputs": [],
   "source": [
    "# plot the distributions of predicted probabilities for \n",
    "probabilities_plot(optimized_hist_boost_model, test_df)"
   ]
  },
  {
   "cell_type": "code",
   "execution_count": null,
   "id": "6653fc0d",
   "metadata": {},
   "outputs": [],
   "source": [
    "def roc_au_plot(model, testing_data):\n",
    "    y_true = testing_data['incident']\n",
    "    X_test = testing_data.drop(columns=['incident'])\n",
    "    prob_incident = model.predict_proba(X_test)[:, 1]\n",
    "    \n",
    "    # Calculate the ROC curve\n",
    "    fpr, tpr, thresholds = roc_curve(y_test, prob_incident)\n",
    "\n",
    "    # Calculate the AUC score\n",
    "    auc_score = roc_auc_score(y_test, prob_incident)\n",
    "\n",
    "    # Plot the ROC curve\n",
    "    plt.figure(figsize=(8, 6))\n",
    "    plt.plot(fpr, tpr, label=f'AUC = {auc_score:.2f}')\n",
    "    plt.plot([0, 1], [0, 1], 'r--') # Plot the diagonal line for random guessing\n",
    "    plt.xlabel('False Positive Rate (FPR)')\n",
    "    plt.ylabel('True Positive Rate (TPR)')\n",
    "    plt.title('Receiver Operating Characteristic (ROC) Curve')\n",
    "    plt.legend(loc='lower right')\n",
    "    plt.grid(True)\n",
    "    plt.show()\n",
    "\n",
    "    print(f'AUC Score: {auc_score:.2f}')\n",
    "\n",
    "roc_au_plot(optimized_hist_boost_model, test_df)"
   ]
  },
  {
   "cell_type": "markdown",
   "id": "e59958c2",
   "metadata": {},
   "source": [
    "## 7. Save the best model"
   ]
  },
  {
   "cell_type": "code",
   "execution_count": null,
   "id": "adf1270d",
   "metadata": {},
   "outputs": [],
   "source": [
    "Path(config.MODEL_DIRECTORY).mkdir(parents=True, exist_ok=True)\n",
    "\n",
    "with open(config.MODEL, 'wb') as output_file:\n",
    "    pickle.dump(optimized_hist_boost_model, output_file)\n",
    "    "
   ]
  }
 ],
 "metadata": {
  "kernelspec": {
   "display_name": "Python 3",
   "language": "python",
   "name": "python3"
  },
  "language_info": {
   "codemirror_mode": {
    "name": "ipython",
    "version": 3
   },
   "file_extension": ".py",
   "mimetype": "text/x-python",
   "name": "python",
   "nbconvert_exporter": "python",
   "pygments_lexer": "ipython3",
   "version": "3.11.4"
  }
 },
 "nbformat": 4,
 "nbformat_minor": 5
}
